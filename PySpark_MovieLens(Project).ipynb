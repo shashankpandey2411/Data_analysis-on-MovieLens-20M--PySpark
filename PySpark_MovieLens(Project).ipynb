{
  "cells": [
    {
      "cell_type": "code",
      "source": [
        "from timeit import default_timer\n",
        "start = default_timer()\n",
        "\n",
        "import pandas as pd\n",
        "import numpy as np\n",
        "import matplotlib.pyplot as plt\n",
        "plt.style.use('ggplot')"
      ],
      "metadata": {
        "id": "XWPrfHCfsdTc"
      },
      "execution_count": 102,
      "outputs": []
    },
    {
      "cell_type": "code",
      "source": [
        "!pip install kaggle"
      ],
      "metadata": {
        "colab": {
          "base_uri": "https://localhost:8080/"
        },
        "id": "zy05rnpkseSG",
        "outputId": "4668045b-407e-4c82-f4b0-cc93fde9c763"
      },
      "execution_count": 103,
      "outputs": [
        {
          "output_type": "stream",
          "name": "stdout",
          "text": [
            "Looking in indexes: https://pypi.org/simple, https://us-python.pkg.dev/colab-wheels/public/simple/\n",
            "Requirement already satisfied: kaggle in /usr/local/lib/python3.9/dist-packages (1.5.13)\n",
            "Requirement already satisfied: python-slugify in /usr/local/lib/python3.9/dist-packages (from kaggle) (8.0.1)\n",
            "Requirement already satisfied: python-dateutil in /usr/local/lib/python3.9/dist-packages (from kaggle) (2.8.2)\n",
            "Requirement already satisfied: six>=1.10 in /usr/local/lib/python3.9/dist-packages (from kaggle) (1.16.0)\n",
            "Requirement already satisfied: urllib3 in /usr/local/lib/python3.9/dist-packages (from kaggle) (1.26.15)\n",
            "Requirement already satisfied: certifi in /usr/local/lib/python3.9/dist-packages (from kaggle) (2022.12.7)\n",
            "Requirement already satisfied: tqdm in /usr/local/lib/python3.9/dist-packages (from kaggle) (4.65.0)\n",
            "Requirement already satisfied: requests in /usr/local/lib/python3.9/dist-packages (from kaggle) (2.27.1)\n",
            "Requirement already satisfied: text-unidecode>=1.3 in /usr/local/lib/python3.9/dist-packages (from python-slugify->kaggle) (1.3)\n",
            "Requirement already satisfied: charset-normalizer~=2.0.0 in /usr/local/lib/python3.9/dist-packages (from requests->kaggle) (2.0.12)\n",
            "Requirement already satisfied: idna<4,>=2.5 in /usr/local/lib/python3.9/dist-packages (from requests->kaggle) (3.4)\n"
          ]
        }
      ]
    },
    {
      "cell_type": "code",
      "source": [
        "!mkdir -p ~/.kaggle"
      ],
      "metadata": {
        "id": "ZZBcr5yosiIx"
      },
      "execution_count": 104,
      "outputs": []
    },
    {
      "cell_type": "code",
      "source": [
        "!cp kaggle.json ~/.kaggle/"
      ],
      "metadata": {
        "id": "a1l9d4BlveM5"
      },
      "execution_count": 105,
      "outputs": []
    },
    {
      "cell_type": "code",
      "source": [
        "!chmod 700 ~/.kaggle/kaggle.json"
      ],
      "metadata": {
        "id": "xprPRPGuvivG"
      },
      "execution_count": 106,
      "outputs": []
    },
    {
      "cell_type": "code",
      "source": [
        "!kaggle datasets download -d grouplens/movielens-20m-dataset"
      ],
      "metadata": {
        "colab": {
          "base_uri": "https://localhost:8080/"
        },
        "id": "zoxI6A7OvkfT",
        "outputId": "7b2485ab-1436-4368-b2c8-dba39567bfde"
      },
      "execution_count": 107,
      "outputs": [
        {
          "output_type": "stream",
          "name": "stdout",
          "text": [
            "movielens-20m-dataset.zip: Skipping, found more recently modified local copy (use --force to force download)\n"
          ]
        }
      ]
    },
    {
      "cell_type": "code",
      "source": [
        "!unzip movielens-20m-dataset.zip"
      ],
      "metadata": {
        "colab": {
          "base_uri": "https://localhost:8080/"
        },
        "id": "ZoPhuzu1vmbd",
        "outputId": "f442e9b8-3400-4180-999e-e5e79449a67f"
      },
      "execution_count": 108,
      "outputs": [
        {
          "output_type": "stream",
          "name": "stdout",
          "text": [
            "Archive:  movielens-20m-dataset.zip\n",
            "replace genome_scores.csv? [y]es, [n]o, [A]ll, [N]one, [r]ename: A\n",
            "  inflating: genome_scores.csv       \n",
            "  inflating: genome_tags.csv         \n",
            "  inflating: link.csv                \n",
            "  inflating: movie.csv               \n",
            "  inflating: rating.csv              A\n",
            "\n",
            "  inflating: tag.csv                 \n"
          ]
        }
      ]
    },
    {
      "cell_type": "code",
      "source": [
        "import pandas as pd\n",
        "tag = pd.read_csv(\"/content/tag.csv\")\n",
        "movies = pd.read_csv(\"/content/movie.csv\")\n",
        "rating = pd.read_csv(\"/content/rating.csv\")\n",
        "link = pd.read_csv(\"/content/link.csv\")\n",
        "genome_tags = pd.read_csv(\"/content/genome_tags.csv\")\n",
        "genome_scores = pd.read_csv(\"/content/genome_scores.csv\")"
      ],
      "metadata": {
        "id": "0HtlF8d-voiu"
      },
      "execution_count": 109,
      "outputs": []
    },
    {
      "cell_type": "code",
      "source": [
        "!apt-get update\n",
        "# Download Java Virtual Machine (JVM)\n",
        "!apt-get install openjdk-8-jdk-headless -qq > /dev/null\n"
      ],
      "metadata": {
        "colab": {
          "base_uri": "https://localhost:8080/"
        },
        "id": "eKGF7QX7jZNt",
        "outputId": "89941fc1-5c93-4844-c557-f9821eb66ec6"
      },
      "execution_count": 1,
      "outputs": [
        {
          "output_type": "stream",
          "name": "stdout",
          "text": [
            "\r0% [Working]\r            \rGet:1 https://cloud.r-project.org/bin/linux/ubuntu focal-cran40/ InRelease [3,622 B]\n",
            "\r0% [Connecting to archive.ubuntu.com (185.125.190.36)] [Connecting to security.\r0% [Connecting to archive.ubuntu.com (185.125.190.36)] [Connecting to security.\r                                                                               \rGet:2 https://developer.download.nvidia.com/compute/cuda/repos/ubuntu2004/x86_64  InRelease [1,581 B]\n",
            "\r                                                                               \r0% [Waiting for headers] [Waiting for headers] [Waiting for headers]\r                                                                    \rHit:3 http://ppa.launchpad.net/c2d4u.team/c2d4u4.0+/ubuntu focal InRelease\n",
            "\r                                                                    \r0% [Waiting for headers] [Waiting for headers]\r                                              \rGet:4 http://security.ubuntu.com/ubuntu focal-security InRelease [114 kB]\n",
            "Hit:5 http://archive.ubuntu.com/ubuntu focal InRelease\n",
            "Get:6 http://archive.ubuntu.com/ubuntu focal-updates InRelease [114 kB]\n",
            "Hit:7 http://ppa.launchpad.net/cran/libgit2/ubuntu focal InRelease\n",
            "Get:8 https://developer.download.nvidia.com/compute/cuda/repos/ubuntu2004/x86_64  Packages [972 kB]\n",
            "Hit:9 http://ppa.launchpad.net/deadsnakes/ppa/ubuntu focal InRelease\n",
            "Get:10 http://archive.ubuntu.com/ubuntu focal-backports InRelease [108 kB]\n",
            "Hit:11 http://ppa.launchpad.net/graphics-drivers/ppa/ubuntu focal InRelease\n",
            "Hit:12 http://ppa.launchpad.net/ubuntugis/ppa/ubuntu focal InRelease\n",
            "Get:13 http://security.ubuntu.com/ubuntu focal-security/restricted amd64 Packages [2,060 kB]\n",
            "Get:14 http://archive.ubuntu.com/ubuntu focal-updates/restricted amd64 Packages [2,199 kB]\n",
            "Get:15 http://security.ubuntu.com/ubuntu focal-security/multiverse amd64 Packages [28.5 kB]\n",
            "Get:16 http://archive.ubuntu.com/ubuntu focal-updates/multiverse amd64 Packages [31.3 kB]\n",
            "Get:17 http://archive.ubuntu.com/ubuntu focal-updates/universe amd64 Packages [1,324 kB]\n",
            "Get:18 http://archive.ubuntu.com/ubuntu focal-updates/main amd64 Packages [3,069 kB]\n",
            "Fetched 10.0 MB in 2s (4,774 kB/s)\n",
            "Reading package lists... Done\n"
          ]
        }
      ]
    },
    {
      "cell_type": "code",
      "source": [
        "# Download Spark\n",
        "!wget -q https://archive.apache.org/dist/spark/spark-3.2.1/spark-3.2.1-bin-hadoop3.2.tgz\n",
        "# Unzip the file\n",
        "!tar xf spark-3.2.1-bin-hadoop3.2.tgz"
      ],
      "metadata": {
        "id": "CNSRml7xjaGl"
      },
      "execution_count": 2,
      "outputs": []
    },
    {
      "cell_type": "code",
      "source": [
        "!pip install -q findspark"
      ],
      "metadata": {
        "id": "a9E_8VO3jdbd"
      },
      "execution_count": 3,
      "outputs": []
    },
    {
      "cell_type": "code",
      "source": [
        "# set your spark folder to your system path environment. \n",
        "import os\n",
        "os.environ[\"JAVA_HOME\"] = \"/usr/lib/jvm/java-8-openjdk-amd64\"\n",
        "os.environ[\"SPARK_HOME\"] = '/content/spark-3.2.1-bin-hadoop3.2'"
      ],
      "metadata": {
        "id": "6H9JRSRajfvL"
      },
      "execution_count": 4,
      "outputs": []
    },
    {
      "cell_type": "code",
      "source": [
        "!ls"
      ],
      "metadata": {
        "colab": {
          "base_uri": "https://localhost:8080/"
        },
        "id": "mqnHzXaCjjTk",
        "outputId": "5c718497-05fb-4ffd-b0cb-f9cd972643cd"
      },
      "execution_count": 5,
      "outputs": [
        {
          "output_type": "stream",
          "name": "stdout",
          "text": [
            "kaggle.json  spark-3.2.1-bin-hadoop3.2\n",
            "sample_data  spark-3.2.1-bin-hadoop3.2.tgz\n"
          ]
        }
      ]
    },
    {
      "cell_type": "code",
      "source": [
        "import findspark\n",
        "findspark.init()"
      ],
      "metadata": {
        "id": "cGPefK7Gjk9o"
      },
      "execution_count": 6,
      "outputs": []
    },
    {
      "cell_type": "code",
      "source": [
        "!pip install pyspark"
      ],
      "metadata": {
        "colab": {
          "base_uri": "https://localhost:8080/"
        },
        "id": "B-4ucM70jmgn",
        "outputId": "267e6917-7db6-4f62-aa7f-ee7cdc9230b5"
      },
      "execution_count": 7,
      "outputs": [
        {
          "output_type": "stream",
          "name": "stdout",
          "text": [
            "Looking in indexes: https://pypi.org/simple, https://us-python.pkg.dev/colab-wheels/public/simple/\n",
            "Collecting pyspark\n",
            "  Downloading pyspark-3.3.2.tar.gz (281.4 MB)\n",
            "\u001b[2K     \u001b[90m━━━━━━━━━━━━━━━━━━━━━━━━━━━━━━━━━━━━━━━\u001b[0m \u001b[32m281.4/281.4 MB\u001b[0m \u001b[31m5.5 MB/s\u001b[0m eta \u001b[36m0:00:00\u001b[0m\n",
            "\u001b[?25h  Preparing metadata (setup.py) ... \u001b[?25l\u001b[?25hdone\n",
            "Collecting py4j==0.10.9.5\n",
            "  Downloading py4j-0.10.9.5-py2.py3-none-any.whl (199 kB)\n",
            "\u001b[2K     \u001b[90m━━━━━━━━━━━━━━━━━━━━━━━━━━━━━━━━━━━━━━\u001b[0m \u001b[32m199.7/199.7 KB\u001b[0m \u001b[31m25.2 MB/s\u001b[0m eta \u001b[36m0:00:00\u001b[0m\n",
            "\u001b[?25hBuilding wheels for collected packages: pyspark\n",
            "  Building wheel for pyspark (setup.py) ... \u001b[?25l\u001b[?25hdone\n",
            "  Created wheel for pyspark: filename=pyspark-3.3.2-py2.py3-none-any.whl size=281824028 sha256=83414b08a97c1e4be90071a6c3806d935b85a7ec3a42614652fa4b8151f9e713\n",
            "  Stored in directory: /root/.cache/pip/wheels/6c/e3/9b/0525ce8a69478916513509d43693511463c6468db0de237c86\n",
            "Successfully built pyspark\n",
            "Installing collected packages: py4j, pyspark\n",
            "  Attempting uninstall: py4j\n",
            "    Found existing installation: py4j 0.10.9.7\n",
            "    Uninstalling py4j-0.10.9.7:\n",
            "      Successfully uninstalled py4j-0.10.9.7\n",
            "Successfully installed py4j-0.10.9.5 pyspark-3.3.2\n"
          ]
        }
      ]
    },
    {
      "cell_type": "code",
      "source": [
        "import pyspark\n",
        "from pyspark.sql import SparkSession\n",
        "from pyspark.sql.functions import col, lower, collect_list, split, explode, count, row_number\n",
        "from pyspark.sql.window import Window\n",
        "from pyspark import SparkConf\n",
        "from pyspark.context import SparkContext\n",
        "\n",
        "sc = SparkContext.getOrCreate(SparkConf().setMaster(\"local[*]\"))\n",
        "sc"
      ],
      "metadata": {
        "colab": {
          "base_uri": "https://localhost:8080/",
          "height": 196
        },
        "id": "0y8fHWk4j1_c",
        "outputId": "6f734a2f-60a3-4952-c272-3986141c31bc"
      },
      "execution_count": 126,
      "outputs": [
        {
          "output_type": "execute_result",
          "data": {
            "text/plain": [
              "<SparkContext master=local[*] appName=pyspark-shell>"
            ],
            "text/html": [
              "\n",
              "        <div>\n",
              "            <p><b>SparkContext</b></p>\n",
              "\n",
              "            <p><a href=\"http://9946aaee3dcc:4040\">Spark UI</a></p>\n",
              "\n",
              "            <dl>\n",
              "              <dt>Version</dt>\n",
              "                <dd><code>v3.2.1</code></dd>\n",
              "              <dt>Master</dt>\n",
              "                <dd><code>local[*]</code></dd>\n",
              "              <dt>AppName</dt>\n",
              "                <dd><code>pyspark-shell</code></dd>\n",
              "            </dl>\n",
              "        </div>\n",
              "        "
            ]
          },
          "metadata": {},
          "execution_count": 126
        }
      ]
    },
    {
      "cell_type": "markdown",
      "metadata": {
        "id": "2Pr9M4x9fYUT"
      },
      "source": [
        "### To Check if Spark is active"
      ]
    },
    {
      "cell_type": "code",
      "execution_count": 10,
      "metadata": {
        "scrolled": true,
        "colab": {
          "base_uri": "https://localhost:8080/",
          "height": 196
        },
        "id": "uaM2sfQJfYUU",
        "outputId": "cefce501-97a1-4674-9131-4239182b5958"
      },
      "outputs": [
        {
          "output_type": "execute_result",
          "data": {
            "text/plain": [
              "<SparkContext master=local[*] appName=pyspark-shell>"
            ],
            "text/html": [
              "\n",
              "        <div>\n",
              "            <p><b>SparkContext</b></p>\n",
              "\n",
              "            <p><a href=\"http://9946aaee3dcc:4040\">Spark UI</a></p>\n",
              "\n",
              "            <dl>\n",
              "              <dt>Version</dt>\n",
              "                <dd><code>v3.2.1</code></dd>\n",
              "              <dt>Master</dt>\n",
              "                <dd><code>local[*]</code></dd>\n",
              "              <dt>AppName</dt>\n",
              "                <dd><code>pyspark-shell</code></dd>\n",
              "            </dl>\n",
              "        </div>\n",
              "        "
            ]
          },
          "metadata": {},
          "execution_count": 10
        }
      ],
      "source": [
        "sc"
      ]
    },
    {
      "cell_type": "markdown",
      "metadata": {
        "id": "x566LSlHfYUV"
      },
      "source": [
        "### Importing the required libraries"
      ]
    },
    {
      "cell_type": "code",
      "execution_count": 11,
      "metadata": {
        "id": "L1OBmS3jfYUV"
      },
      "outputs": [],
      "source": [
        "import os\n",
        "import pyspark\n",
        "from pyspark import SparkConf\n",
        "from pyspark.sql import SparkSession\n",
        "from pyspark.ml.linalg import Vectors\n",
        "from pyspark.ml.stat import Correlation\n",
        "from pyspark.ml.linalg import Vectors\n",
        "from pyspark.ml.feature import VectorAssembler\n",
        "import pandas as pd\n",
        "spark = SparkSession.builder.master(\"local\").config(conf=SparkConf()).getOrCreate()"
      ]
    },
    {
      "cell_type": "markdown",
      "metadata": {
        "id": "i8xWAxOQfYUW"
      },
      "source": [
        "### Converting the data into Spark DataFrames"
      ]
    },
    {
      "cell_type": "code",
      "execution_count": 18,
      "metadata": {
        "id": "HyJNCGirfYUW"
      },
      "outputs": [],
      "source": [
        "movie_df=spark.read.csv('/content/movie.csv',inferSchema=True,header=True)\n",
        "link_df=spark.read.csv('/content/link.csv',inferSchema=True,header=True)\n",
        "rating_df=spark.read.csv('/content/rating.csv',inferSchema=True,header=True)\n",
        "tag_df=spark.read.csv('/content/tag.csv',inferSchema=True,header=True)"
      ]
    },
    {
      "cell_type": "code",
      "execution_count": 19,
      "metadata": {
        "colab": {
          "base_uri": "https://localhost:8080/"
        },
        "id": "Fdws2O-SfYUW",
        "outputId": "373f8d9a-8a44-49c6-f2f6-924ab4f28a5f"
      },
      "outputs": [
        {
          "output_type": "stream",
          "name": "stdout",
          "text": [
            "+-------+--------------------+--------------------+\n",
            "|movieId|               title|              genres|\n",
            "+-------+--------------------+--------------------+\n",
            "|      1|    Toy Story (1995)|Adventure|Animati...|\n",
            "|      2|      Jumanji (1995)|Adventure|Childre...|\n",
            "|      3|Grumpier Old Men ...|      Comedy|Romance|\n",
            "|      4|Waiting to Exhale...|Comedy|Drama|Romance|\n",
            "|      5|Father of the Bri...|              Comedy|\n",
            "|      6|         Heat (1995)|Action|Crime|Thri...|\n",
            "|      7|      Sabrina (1995)|      Comedy|Romance|\n",
            "|      8| Tom and Huck (1995)|  Adventure|Children|\n",
            "|      9| Sudden Death (1995)|              Action|\n",
            "|     10|    GoldenEye (1995)|Action|Adventure|...|\n",
            "|     11|American Presiden...|Comedy|Drama|Romance|\n",
            "|     12|Dracula: Dead and...|       Comedy|Horror|\n",
            "|     13|        Balto (1995)|Adventure|Animati...|\n",
            "|     14|        Nixon (1995)|               Drama|\n",
            "|     15|Cutthroat Island ...|Action|Adventure|...|\n",
            "|     16|       Casino (1995)|         Crime|Drama|\n",
            "|     17|Sense and Sensibi...|       Drama|Romance|\n",
            "|     18|   Four Rooms (1995)|              Comedy|\n",
            "|     19|Ace Ventura: When...|              Comedy|\n",
            "|     20|  Money Train (1995)|Action|Comedy|Cri...|\n",
            "+-------+--------------------+--------------------+\n",
            "only showing top 20 rows\n",
            "\n"
          ]
        }
      ],
      "source": [
        "# Movies dataframe\n",
        "movie_df.show()"
      ]
    },
    {
      "cell_type": "code",
      "execution_count": 20,
      "metadata": {
        "colab": {
          "base_uri": "https://localhost:8080/"
        },
        "id": "Wjm35f5KfYUX",
        "outputId": "cfbfcb94-99e2-4415-86d4-800d24cbe6bb"
      },
      "outputs": [
        {
          "output_type": "stream",
          "name": "stdout",
          "text": [
            "+-------+------+------+\n",
            "|movieId|imdbId|tmdbId|\n",
            "+-------+------+------+\n",
            "|      1|114709|   862|\n",
            "|      2|113497|  8844|\n",
            "|      3|113228| 15602|\n",
            "|      4|114885| 31357|\n",
            "|      5|113041| 11862|\n",
            "|      6|113277|   949|\n",
            "|      7|114319| 11860|\n",
            "|      8|112302| 45325|\n",
            "|      9|114576|  9091|\n",
            "|     10|113189|   710|\n",
            "|     11|112346|  9087|\n",
            "|     12|112896| 12110|\n",
            "|     13|112453| 21032|\n",
            "|     14|113987| 10858|\n",
            "|     15|112760|  1408|\n",
            "|     16|112641|   524|\n",
            "|     17|114388|  4584|\n",
            "|     18|113101|     5|\n",
            "|     19|112281|  9273|\n",
            "|     20|113845| 11517|\n",
            "+-------+------+------+\n",
            "only showing top 20 rows\n",
            "\n"
          ]
        }
      ],
      "source": [
        "# Link dataframe\n",
        "link_df.show()"
      ]
    },
    {
      "cell_type": "code",
      "execution_count": 21,
      "metadata": {
        "colab": {
          "base_uri": "https://localhost:8080/"
        },
        "id": "v_Rsw436fYUX",
        "outputId": "7c7ffe71-20d5-4301-bbc1-23e93e765e61"
      },
      "outputs": [
        {
          "output_type": "stream",
          "name": "stdout",
          "text": [
            "+------+-------+-----------------+-------------------+\n",
            "|userId|movieId|              tag|          timestamp|\n",
            "+------+-------+-----------------+-------------------+\n",
            "|    18|   4141|      Mark Waters|2009-04-24 18:19:40|\n",
            "|    65|    208|        dark hero|2013-05-10 01:41:18|\n",
            "|    65|    353|        dark hero|2013-05-10 01:41:19|\n",
            "|    65|    521|    noir thriller|2013-05-10 01:39:43|\n",
            "|    65|    592|        dark hero|2013-05-10 01:41:18|\n",
            "|    65|    668|        bollywood|2013-05-10 01:37:56|\n",
            "|    65|    898| screwball comedy|2013-05-10 01:42:40|\n",
            "|    65|   1248|    noir thriller|2013-05-10 01:39:43|\n",
            "|    65|   1391|             mars|2013-05-10 01:40:55|\n",
            "|    65|   1617|         neo-noir|2013-05-10 01:43:37|\n",
            "|    65|   1694|            jesus|2013-05-10 01:38:45|\n",
            "|    65|   1783|    noir thriller|2013-05-10 01:39:43|\n",
            "|    65|   2022|            jesus|2013-05-10 01:38:45|\n",
            "|    65|   2193|           dragon|2013-05-10 02:01:54|\n",
            "|    65|   2353|conspiracy theory|2013-05-10 02:01:06|\n",
            "|    65|   2662|             mars|2013-05-10 01:40:55|\n",
            "|    65|   2726|    noir thriller|2013-05-10 01:39:43|\n",
            "|    65|   2840|            jesus|2013-05-10 01:38:45|\n",
            "|    65|   3052|            jesus|2013-05-10 01:38:46|\n",
            "|    65|   5135|        bollywood|2013-05-10 01:37:56|\n",
            "+------+-------+-----------------+-------------------+\n",
            "only showing top 20 rows\n",
            "\n"
          ]
        }
      ],
      "source": [
        "#Tags Dataframe\n",
        "tag_df.show()"
      ]
    },
    {
      "cell_type": "code",
      "execution_count": 22,
      "metadata": {
        "colab": {
          "base_uri": "https://localhost:8080/"
        },
        "id": "Kan4NyhbfYUX",
        "outputId": "5970ea52-658e-4269-db18-f12fce25e17a"
      },
      "outputs": [
        {
          "output_type": "stream",
          "name": "stdout",
          "text": [
            "+------+-------+------+-------------------+\n",
            "|userId|movieId|rating|          timestamp|\n",
            "+------+-------+------+-------------------+\n",
            "|     1|      2|   3.5|2005-04-02 23:53:47|\n",
            "|     1|     29|   3.5|2005-04-02 23:31:16|\n",
            "|     1|     32|   3.5|2005-04-02 23:33:39|\n",
            "|     1|     47|   3.5|2005-04-02 23:32:07|\n",
            "|     1|     50|   3.5|2005-04-02 23:29:40|\n",
            "|     1|    112|   3.5|2004-09-10 03:09:00|\n",
            "|     1|    151|   4.0|2004-09-10 03:08:54|\n",
            "|     1|    223|   4.0|2005-04-02 23:46:13|\n",
            "|     1|    253|   4.0|2005-04-02 23:35:40|\n",
            "|     1|    260|   4.0|2005-04-02 23:33:46|\n",
            "|     1|    293|   4.0|2005-04-02 23:31:43|\n",
            "|     1|    296|   4.0|2005-04-02 23:32:47|\n",
            "|     1|    318|   4.0|2005-04-02 23:33:18|\n",
            "|     1|    337|   3.5|2004-09-10 03:08:29|\n",
            "|     1|    367|   3.5|2005-04-02 23:53:00|\n",
            "|     1|    541|   4.0|2005-04-02 23:30:03|\n",
            "|     1|    589|   3.5|2005-04-02 23:45:57|\n",
            "|     1|    593|   3.5|2005-04-02 23:31:01|\n",
            "|     1|    653|   3.0|2004-09-10 03:08:11|\n",
            "|     1|    919|   3.5|2004-09-10 03:07:01|\n",
            "+------+-------+------+-------------------+\n",
            "only showing top 20 rows\n",
            "\n"
          ]
        }
      ],
      "source": [
        "#Ratings Dataframe\n",
        "rating_df.show()"
      ]
    },
    {
      "cell_type": "markdown",
      "metadata": {
        "id": "bw0QdcwofYUX"
      },
      "source": [
        "### Correlation of the data"
      ]
    },
    {
      "cell_type": "code",
      "execution_count": 23,
      "metadata": {
        "id": "ulBYhPe2fYUY"
      },
      "outputs": [],
      "source": [
        "def correlation_matrix(df, corr_columns, method='pearson'):\n",
        "\n",
        "    vector_col = \"corr_features\"\n",
        "    assembler = VectorAssembler(inputCols=corr_columns, outputCol=vector_col)\n",
        "    df_vector = assembler.transform(df).select(vector_col)\n",
        "    matrix = Correlation.corr(df_vector, vector_col, method)\n",
        "\n",
        "    result = matrix.collect()[0][\"pearson({})\".format(vector_col)].values\n",
        "    return pd.DataFrame(result.reshape(-1, len(corr_columns)), columns=corr_columns, index=corr_columns)"
      ]
    },
    {
      "cell_type": "code",
      "execution_count": 24,
      "metadata": {
        "colab": {
          "base_uri": "https://localhost:8080/",
          "height": 198
        },
        "id": "pkcT8n5QfYUY",
        "outputId": "beee42c1-aa68-41f2-dc93-09f0e1cbc2c5"
      },
      "outputs": [
        {
          "output_type": "stream",
          "name": "stderr",
          "text": [
            "/content/spark-3.2.1-bin-hadoop3.2/python/pyspark/sql/context.py:125: FutureWarning: Deprecated in 3.0.0. Use SparkSession.builder.getOrCreate() instead.\n",
            "  warnings.warn(\n"
          ]
        },
        {
          "output_type": "execute_result",
          "data": {
            "text/plain": [
              "           userId   movieId    rating\n",
              "userId   1.000000 -0.000850  0.001175\n",
              "movieId -0.000850  1.000000  0.002606\n",
              "rating   0.001175  0.002606  1.000000"
            ],
            "text/html": [
              "\n",
              "  <div id=\"df-e94c0ac5-d473-42bf-94b1-f93e272b9906\">\n",
              "    <div class=\"colab-df-container\">\n",
              "      <div>\n",
              "<style scoped>\n",
              "    .dataframe tbody tr th:only-of-type {\n",
              "        vertical-align: middle;\n",
              "    }\n",
              "\n",
              "    .dataframe tbody tr th {\n",
              "        vertical-align: top;\n",
              "    }\n",
              "\n",
              "    .dataframe thead th {\n",
              "        text-align: right;\n",
              "    }\n",
              "</style>\n",
              "<table border=\"1\" class=\"dataframe\">\n",
              "  <thead>\n",
              "    <tr style=\"text-align: right;\">\n",
              "      <th></th>\n",
              "      <th>userId</th>\n",
              "      <th>movieId</th>\n",
              "      <th>rating</th>\n",
              "    </tr>\n",
              "  </thead>\n",
              "  <tbody>\n",
              "    <tr>\n",
              "      <th>userId</th>\n",
              "      <td>1.000000</td>\n",
              "      <td>-0.000850</td>\n",
              "      <td>0.001175</td>\n",
              "    </tr>\n",
              "    <tr>\n",
              "      <th>movieId</th>\n",
              "      <td>-0.000850</td>\n",
              "      <td>1.000000</td>\n",
              "      <td>0.002606</td>\n",
              "    </tr>\n",
              "    <tr>\n",
              "      <th>rating</th>\n",
              "      <td>0.001175</td>\n",
              "      <td>0.002606</td>\n",
              "      <td>1.000000</td>\n",
              "    </tr>\n",
              "  </tbody>\n",
              "</table>\n",
              "</div>\n",
              "      <button class=\"colab-df-convert\" onclick=\"convertToInteractive('df-e94c0ac5-d473-42bf-94b1-f93e272b9906')\"\n",
              "              title=\"Convert this dataframe to an interactive table.\"\n",
              "              style=\"display:none;\">\n",
              "        \n",
              "  <svg xmlns=\"http://www.w3.org/2000/svg\" height=\"24px\"viewBox=\"0 0 24 24\"\n",
              "       width=\"24px\">\n",
              "    <path d=\"M0 0h24v24H0V0z\" fill=\"none\"/>\n",
              "    <path d=\"M18.56 5.44l.94 2.06.94-2.06 2.06-.94-2.06-.94-.94-2.06-.94 2.06-2.06.94zm-11 1L8.5 8.5l.94-2.06 2.06-.94-2.06-.94L8.5 2.5l-.94 2.06-2.06.94zm10 10l.94 2.06.94-2.06 2.06-.94-2.06-.94-.94-2.06-.94 2.06-2.06.94z\"/><path d=\"M17.41 7.96l-1.37-1.37c-.4-.4-.92-.59-1.43-.59-.52 0-1.04.2-1.43.59L10.3 9.45l-7.72 7.72c-.78.78-.78 2.05 0 2.83L4 21.41c.39.39.9.59 1.41.59.51 0 1.02-.2 1.41-.59l7.78-7.78 2.81-2.81c.8-.78.8-2.07 0-2.86zM5.41 20L4 18.59l7.72-7.72 1.47 1.35L5.41 20z\"/>\n",
              "  </svg>\n",
              "      </button>\n",
              "      \n",
              "  <style>\n",
              "    .colab-df-container {\n",
              "      display:flex;\n",
              "      flex-wrap:wrap;\n",
              "      gap: 12px;\n",
              "    }\n",
              "\n",
              "    .colab-df-convert {\n",
              "      background-color: #E8F0FE;\n",
              "      border: none;\n",
              "      border-radius: 50%;\n",
              "      cursor: pointer;\n",
              "      display: none;\n",
              "      fill: #1967D2;\n",
              "      height: 32px;\n",
              "      padding: 0 0 0 0;\n",
              "      width: 32px;\n",
              "    }\n",
              "\n",
              "    .colab-df-convert:hover {\n",
              "      background-color: #E2EBFA;\n",
              "      box-shadow: 0px 1px 2px rgba(60, 64, 67, 0.3), 0px 1px 3px 1px rgba(60, 64, 67, 0.15);\n",
              "      fill: #174EA6;\n",
              "    }\n",
              "\n",
              "    [theme=dark] .colab-df-convert {\n",
              "      background-color: #3B4455;\n",
              "      fill: #D2E3FC;\n",
              "    }\n",
              "\n",
              "    [theme=dark] .colab-df-convert:hover {\n",
              "      background-color: #434B5C;\n",
              "      box-shadow: 0px 1px 3px 1px rgba(0, 0, 0, 0.15);\n",
              "      filter: drop-shadow(0px 1px 2px rgba(0, 0, 0, 0.3));\n",
              "      fill: #FFFFFF;\n",
              "    }\n",
              "  </style>\n",
              "\n",
              "      <script>\n",
              "        const buttonEl =\n",
              "          document.querySelector('#df-e94c0ac5-d473-42bf-94b1-f93e272b9906 button.colab-df-convert');\n",
              "        buttonEl.style.display =\n",
              "          google.colab.kernel.accessAllowed ? 'block' : 'none';\n",
              "\n",
              "        async function convertToInteractive(key) {\n",
              "          const element = document.querySelector('#df-e94c0ac5-d473-42bf-94b1-f93e272b9906');\n",
              "          const dataTable =\n",
              "            await google.colab.kernel.invokeFunction('convertToInteractive',\n",
              "                                                     [key], {});\n",
              "          if (!dataTable) return;\n",
              "\n",
              "          const docLinkHtml = 'Like what you see? Visit the ' +\n",
              "            '<a target=\"_blank\" href=https://colab.research.google.com/notebooks/data_table.ipynb>data table notebook</a>'\n",
              "            + ' to learn more about interactive tables.';\n",
              "          element.innerHTML = '';\n",
              "          dataTable['output_type'] = 'display_data';\n",
              "          await google.colab.output.renderOutput(dataTable, element);\n",
              "          const docLink = document.createElement('div');\n",
              "          docLink.innerHTML = docLinkHtml;\n",
              "          element.appendChild(docLink);\n",
              "        }\n",
              "      </script>\n",
              "    </div>\n",
              "  </div>\n",
              "  "
            ]
          },
          "metadata": {},
          "execution_count": 24
        }
      ],
      "source": [
        "# Correlation of ratings dataset\n",
        "correlation_matrix(rating_df,['userId','movieId','rating'])"
      ]
    },
    {
      "cell_type": "code",
      "execution_count": 25,
      "metadata": {
        "colab": {
          "base_uri": "https://localhost:8080/",
          "height": 167
        },
        "id": "WxTpWcwmfYUY",
        "outputId": "c8957bbc-ca01-448c-c687-b04dc53edbe6"
      },
      "outputs": [
        {
          "output_type": "stream",
          "name": "stderr",
          "text": [
            "/content/spark-3.2.1-bin-hadoop3.2/python/pyspark/sql/context.py:125: FutureWarning: Deprecated in 3.0.0. Use SparkSession.builder.getOrCreate() instead.\n",
            "  warnings.warn(\n"
          ]
        },
        {
          "output_type": "execute_result",
          "data": {
            "text/plain": [
              "           userId   movieId\n",
              "userId   1.000000 -0.006086\n",
              "movieId -0.006086  1.000000"
            ],
            "text/html": [
              "\n",
              "  <div id=\"df-93856748-9628-495e-bd03-5a7918e0393b\">\n",
              "    <div class=\"colab-df-container\">\n",
              "      <div>\n",
              "<style scoped>\n",
              "    .dataframe tbody tr th:only-of-type {\n",
              "        vertical-align: middle;\n",
              "    }\n",
              "\n",
              "    .dataframe tbody tr th {\n",
              "        vertical-align: top;\n",
              "    }\n",
              "\n",
              "    .dataframe thead th {\n",
              "        text-align: right;\n",
              "    }\n",
              "</style>\n",
              "<table border=\"1\" class=\"dataframe\">\n",
              "  <thead>\n",
              "    <tr style=\"text-align: right;\">\n",
              "      <th></th>\n",
              "      <th>userId</th>\n",
              "      <th>movieId</th>\n",
              "    </tr>\n",
              "  </thead>\n",
              "  <tbody>\n",
              "    <tr>\n",
              "      <th>userId</th>\n",
              "      <td>1.000000</td>\n",
              "      <td>-0.006086</td>\n",
              "    </tr>\n",
              "    <tr>\n",
              "      <th>movieId</th>\n",
              "      <td>-0.006086</td>\n",
              "      <td>1.000000</td>\n",
              "    </tr>\n",
              "  </tbody>\n",
              "</table>\n",
              "</div>\n",
              "      <button class=\"colab-df-convert\" onclick=\"convertToInteractive('df-93856748-9628-495e-bd03-5a7918e0393b')\"\n",
              "              title=\"Convert this dataframe to an interactive table.\"\n",
              "              style=\"display:none;\">\n",
              "        \n",
              "  <svg xmlns=\"http://www.w3.org/2000/svg\" height=\"24px\"viewBox=\"0 0 24 24\"\n",
              "       width=\"24px\">\n",
              "    <path d=\"M0 0h24v24H0V0z\" fill=\"none\"/>\n",
              "    <path d=\"M18.56 5.44l.94 2.06.94-2.06 2.06-.94-2.06-.94-.94-2.06-.94 2.06-2.06.94zm-11 1L8.5 8.5l.94-2.06 2.06-.94-2.06-.94L8.5 2.5l-.94 2.06-2.06.94zm10 10l.94 2.06.94-2.06 2.06-.94-2.06-.94-.94-2.06-.94 2.06-2.06.94z\"/><path d=\"M17.41 7.96l-1.37-1.37c-.4-.4-.92-.59-1.43-.59-.52 0-1.04.2-1.43.59L10.3 9.45l-7.72 7.72c-.78.78-.78 2.05 0 2.83L4 21.41c.39.39.9.59 1.41.59.51 0 1.02-.2 1.41-.59l7.78-7.78 2.81-2.81c.8-.78.8-2.07 0-2.86zM5.41 20L4 18.59l7.72-7.72 1.47 1.35L5.41 20z\"/>\n",
              "  </svg>\n",
              "      </button>\n",
              "      \n",
              "  <style>\n",
              "    .colab-df-container {\n",
              "      display:flex;\n",
              "      flex-wrap:wrap;\n",
              "      gap: 12px;\n",
              "    }\n",
              "\n",
              "    .colab-df-convert {\n",
              "      background-color: #E8F0FE;\n",
              "      border: none;\n",
              "      border-radius: 50%;\n",
              "      cursor: pointer;\n",
              "      display: none;\n",
              "      fill: #1967D2;\n",
              "      height: 32px;\n",
              "      padding: 0 0 0 0;\n",
              "      width: 32px;\n",
              "    }\n",
              "\n",
              "    .colab-df-convert:hover {\n",
              "      background-color: #E2EBFA;\n",
              "      box-shadow: 0px 1px 2px rgba(60, 64, 67, 0.3), 0px 1px 3px 1px rgba(60, 64, 67, 0.15);\n",
              "      fill: #174EA6;\n",
              "    }\n",
              "\n",
              "    [theme=dark] .colab-df-convert {\n",
              "      background-color: #3B4455;\n",
              "      fill: #D2E3FC;\n",
              "    }\n",
              "\n",
              "    [theme=dark] .colab-df-convert:hover {\n",
              "      background-color: #434B5C;\n",
              "      box-shadow: 0px 1px 3px 1px rgba(0, 0, 0, 0.15);\n",
              "      filter: drop-shadow(0px 1px 2px rgba(0, 0, 0, 0.3));\n",
              "      fill: #FFFFFF;\n",
              "    }\n",
              "  </style>\n",
              "\n",
              "      <script>\n",
              "        const buttonEl =\n",
              "          document.querySelector('#df-93856748-9628-495e-bd03-5a7918e0393b button.colab-df-convert');\n",
              "        buttonEl.style.display =\n",
              "          google.colab.kernel.accessAllowed ? 'block' : 'none';\n",
              "\n",
              "        async function convertToInteractive(key) {\n",
              "          const element = document.querySelector('#df-93856748-9628-495e-bd03-5a7918e0393b');\n",
              "          const dataTable =\n",
              "            await google.colab.kernel.invokeFunction('convertToInteractive',\n",
              "                                                     [key], {});\n",
              "          if (!dataTable) return;\n",
              "\n",
              "          const docLinkHtml = 'Like what you see? Visit the ' +\n",
              "            '<a target=\"_blank\" href=https://colab.research.google.com/notebooks/data_table.ipynb>data table notebook</a>'\n",
              "            + ' to learn more about interactive tables.';\n",
              "          element.innerHTML = '';\n",
              "          dataTable['output_type'] = 'display_data';\n",
              "          await google.colab.output.renderOutput(dataTable, element);\n",
              "          const docLink = document.createElement('div');\n",
              "          docLink.innerHTML = docLinkHtml;\n",
              "          element.appendChild(docLink);\n",
              "        }\n",
              "      </script>\n",
              "    </div>\n",
              "  </div>\n",
              "  "
            ]
          },
          "metadata": {},
          "execution_count": 25
        }
      ],
      "source": [
        "# Correlation of Tags dataset\n",
        "correlation_matrix(tag_df,['userId','movieId'])"
      ]
    },
    {
      "cell_type": "markdown",
      "metadata": {
        "id": "9m1dqB3mfYUY"
      },
      "source": [
        "### Extracting the year and the genres for all movies"
      ]
    },
    {
      "cell_type": "code",
      "execution_count": 26,
      "metadata": {
        "colab": {
          "base_uri": "https://localhost:8080/"
        },
        "id": "bL_CywEEfYUZ",
        "outputId": "7991962f-7a0f-4625-d214-92baa8ae607f"
      },
      "outputs": [
        {
          "output_type": "stream",
          "name": "stdout",
          "text": [
            "+--------------------+--------------------+\n",
            "|               title|              genres|\n",
            "+--------------------+--------------------+\n",
            "|    Toy Story (1995)|Adventure|Animati...|\n",
            "|      Jumanji (1995)|Adventure|Childre...|\n",
            "|Grumpier Old Men ...|      Comedy|Romance|\n",
            "|Waiting to Exhale...|Comedy|Drama|Romance|\n",
            "|Father of the Bri...|              Comedy|\n",
            "|         Heat (1995)|Action|Crime|Thri...|\n",
            "|      Sabrina (1995)|      Comedy|Romance|\n",
            "| Tom and Huck (1995)|  Adventure|Children|\n",
            "| Sudden Death (1995)|              Action|\n",
            "|    GoldenEye (1995)|Action|Adventure|...|\n",
            "|American Presiden...|Comedy|Drama|Romance|\n",
            "|Dracula: Dead and...|       Comedy|Horror|\n",
            "|        Balto (1995)|Adventure|Animati...|\n",
            "|        Nixon (1995)|               Drama|\n",
            "|Cutthroat Island ...|Action|Adventure|...|\n",
            "|       Casino (1995)|         Crime|Drama|\n",
            "|Sense and Sensibi...|       Drama|Romance|\n",
            "|   Four Rooms (1995)|              Comedy|\n",
            "|Ace Ventura: When...|              Comedy|\n",
            "|  Money Train (1995)|Action|Comedy|Cri...|\n",
            "+--------------------+--------------------+\n",
            "only showing top 20 rows\n",
            "\n"
          ]
        }
      ],
      "source": [
        "movie_df.select(\"title\",\"genres\").show()"
      ]
    },
    {
      "cell_type": "code",
      "execution_count": 27,
      "metadata": {
        "colab": {
          "base_uri": "https://localhost:8080/"
        },
        "id": "gF6YqkoHfYUZ",
        "outputId": "09839b72-c8af-4c47-e8de-c8c43cf86220"
      },
      "outputs": [
        {
          "output_type": "execute_result",
          "data": {
            "text/plain": [
              "['1995',\n",
              " '1995',\n",
              " '1995',\n",
              " '1995',\n",
              " '1995',\n",
              " '1995',\n",
              " '1995',\n",
              " '1995',\n",
              " '1995',\n",
              " '1995']"
            ]
          },
          "metadata": {},
          "execution_count": 27
        }
      ],
      "source": [
        "# Testing and normally extracting the year\n",
        "movie_df_title_yr = movie_df.select(\"title\").collect()\n",
        "final_yr = []\n",
        "for i in movie_df_title_yr:\n",
        "    final_yr.append(i[0][-5:-1])\n",
        "final_yr[0:10]\n"
      ]
    },
    {
      "cell_type": "code",
      "execution_count": 28,
      "metadata": {
        "colab": {
          "base_uri": "https://localhost:8080/"
        },
        "id": "hpcUHVaDfYUZ",
        "outputId": "868f2434-89b6-4fbf-cbda-9c078ea1eba0"
      },
      "outputs": [
        {
          "output_type": "stream",
          "name": "stdout",
          "text": [
            "+-------+-----+--------------------+\n",
            "|movieId|title|              genres|\n",
            "+-------+-----+--------------------+\n",
            "|      1| 1995|Adventure|Animati...|\n",
            "|      2| 1995|Adventure|Childre...|\n",
            "|      3| 1995|      Comedy|Romance|\n",
            "|      4| 1995|Comedy|Drama|Romance|\n",
            "|      5| 1995|              Comedy|\n",
            "|      6| 1995|Action|Crime|Thri...|\n",
            "|      7| 1995|      Comedy|Romance|\n",
            "|      8| 1995|  Adventure|Children|\n",
            "|      9| 1995|              Action|\n",
            "|     10| 1995|Action|Adventure|...|\n",
            "|     11| 1995|Comedy|Drama|Romance|\n",
            "|     12| 1995|       Comedy|Horror|\n",
            "|     13| 1995|Adventure|Animati...|\n",
            "|     14| 1995|               Drama|\n",
            "|     15| 1995|Action|Adventure|...|\n",
            "|     16| 1995|         Crime|Drama|\n",
            "|     17| 1995|       Drama|Romance|\n",
            "|     18| 1995|              Comedy|\n",
            "|     19| 1995|              Comedy|\n",
            "|     20| 1995|Action|Comedy|Cri...|\n",
            "+-------+-----+--------------------+\n",
            "only showing top 20 rows\n",
            "\n"
          ]
        }
      ],
      "source": [
        "#Extracting the year in the title column and showing it with genre\n",
        "\n",
        "from pyspark.sql.functions import regexp_replace,col\n",
        "from pyspark.sql.functions import udf\n",
        "import re\n",
        "\n",
        "def years(s):\n",
        "    return s[-5:-1]\n",
        "\n",
        "yr_udf = udf(years)\n",
        "\n",
        "movie_df.withColumn(\"title\", yr_udf(\"title\")).show()"
      ]
    },
    {
      "cell_type": "markdown",
      "metadata": {
        "id": "VkwonrhdfYUa"
      },
      "source": [
        "# Spark-SQL Analysis"
      ]
    },
    {
      "cell_type": "markdown",
      "metadata": {
        "id": "4U2pRRZdfYUa"
      },
      "source": [
        "## Creating Views for spark dataframes"
      ]
    },
    {
      "cell_type": "code",
      "execution_count": 29,
      "metadata": {
        "id": "_2wAIAO_fYUa"
      },
      "outputs": [],
      "source": [
        "rating_df.createOrReplaceTempView(\"ratings\")\n",
        "movie_df.createOrReplaceTempView(\"movies\")\n",
        "tag_df.createOrReplaceTempView(\"tags\")\n",
        "link_df.createOrReplaceTempView(\"links\")\n",
        "# Movies with year separated from the title\n",
        "movie_df.withColumn(\"title\", yr_udf(\"title\")).createOrReplaceTempView(\"movies_year\")"
      ]
    },
    {
      "cell_type": "markdown",
      "metadata": {
        "id": "n2AaQm7sfYUb"
      },
      "source": [
        "### Query 1: How many number of Movies are there for each rating? "
      ]
    },
    {
      "cell_type": "code",
      "execution_count": 30,
      "metadata": {
        "scrolled": false,
        "colab": {
          "base_uri": "https://localhost:8080/"
        },
        "id": "Hg6M46ysfYUb",
        "outputId": "a92ef172-2fd4-49db-c525-2e7bc5523671"
      },
      "outputs": [
        {
          "output_type": "stream",
          "name": "stdout",
          "text": [
            "+------+------------+\n",
            "|rating|No_Of_Movies|\n",
            "+------+------------+\n",
            "|   5.0|     2898660|\n",
            "|   4.5|     1534824|\n",
            "|   4.0|     5561926|\n",
            "|   3.5|     2200156|\n",
            "|   3.0|     4291193|\n",
            "|   2.5|      883398|\n",
            "|   2.0|     1430997|\n",
            "|   1.5|      279252|\n",
            "|   1.0|      680732|\n",
            "|   0.5|      239125|\n",
            "+------+------------+\n",
            "\n"
          ]
        }
      ],
      "source": [
        "spark.sql(\"SELECT rating,COUNT(movieID) as No_Of_Movies FROM ratings GROUP BY rating ORDER BY rating DESC\").show()"
      ]
    },
    {
      "cell_type": "markdown",
      "metadata": {
        "id": "Ym8V7JI_fYUc"
      },
      "source": [
        "### Query 2: What are top 10 most rated movies?"
      ]
    },
    {
      "cell_type": "code",
      "execution_count": 31,
      "metadata": {
        "scrolled": true,
        "colab": {
          "base_uri": "https://localhost:8080/"
        },
        "id": "V2CyW3dSfYUc",
        "outputId": "7d10cfaa-2d54-4f5d-b7c0-6d7e2a9e1f3c"
      },
      "outputs": [
        {
          "output_type": "stream",
          "name": "stdout",
          "text": [
            "+--------------------+-------+------+\n",
            "|               title|movieID|rating|\n",
            "+--------------------+-------+------+\n",
            "| Blade Runner (1982)|    541|   5.0|\n",
            "|Amityville Horror...|   1327|   5.0|\n",
            "|Terminator 2: Jud...|    589|   5.0|\n",
            "|Jurassic Park (1993)|    480|   5.0|\n",
            "|2001: A Space Ody...|    924|   5.0|\n",
            "|Lord of the Rings...|   7153|   5.0|\n",
            "|Star Wars: Episod...|   1196|   5.0|\n",
            "|Mr. Holland's Opu...|     62|   5.0|\n",
            "|Star Wars: Episod...|   1210|   5.0|\n",
            "|Star Wars: Episod...|    260|   5.0|\n",
            "+--------------------+-------+------+\n",
            "\n"
          ]
        }
      ],
      "source": [
        "query = \"Select m.title,r.movieID,r.rating from ratings r, movies m where m.movieID = r.movieID order by r.rating desc limit 10\"\n",
        "spark.sql(query).show()"
      ]
    },
    {
      "cell_type": "markdown",
      "metadata": {
        "id": "Dp38YnVhfYUc"
      },
      "source": [
        "### Query 3: How many users have rated each movie?"
      ]
    },
    {
      "cell_type": "code",
      "execution_count": 32,
      "metadata": {
        "colab": {
          "base_uri": "https://localhost:8080/"
        },
        "id": "ldQ1sQtZfYUc",
        "outputId": "07100007-9604-4221-bb40-beeb9f495d8e"
      },
      "outputs": [
        {
          "output_type": "stream",
          "name": "stdout",
          "text": [
            "+-------+-----------+\n",
            "|movieID|No_Of_Users|\n",
            "+-------+-----------+\n",
            "|    296|      67310|\n",
            "|    356|      66172|\n",
            "|    318|      63366|\n",
            "|    593|      63299|\n",
            "|    480|      59715|\n",
            "|    260|      54502|\n",
            "|    110|      53769|\n",
            "|    589|      52244|\n",
            "|   2571|      51334|\n",
            "|    527|      50054|\n",
            "|      1|      49695|\n",
            "|    457|      49581|\n",
            "|    150|      47777|\n",
            "|    780|      47048|\n",
            "|     50|      47006|\n",
            "|   1210|      46839|\n",
            "|    592|      46054|\n",
            "|   1196|      45313|\n",
            "|   2858|      44987|\n",
            "|     32|      44980|\n",
            "+-------+-----------+\n",
            "only showing top 20 rows\n",
            "\n"
          ]
        }
      ],
      "source": [
        "spark.sql(\"SELECT movieID, COUNT(userID) as No_Of_Users FROM ratings GROUP BY movieID ORDER BY COUNT(userID) DESC\").show()"
      ]
    },
    {
      "cell_type": "markdown",
      "metadata": {
        "id": "orFgO8yUfYUd"
      },
      "source": [
        "### Query 4: What is the Total Rating for each movie? "
      ]
    },
    {
      "cell_type": "code",
      "execution_count": 33,
      "metadata": {
        "scrolled": true,
        "colab": {
          "base_uri": "https://localhost:8080/"
        },
        "id": "lkl2D8cqfYUd",
        "outputId": "c9cade14-22ef-484a-d759-fff0af64f438"
      },
      "outputs": [
        {
          "output_type": "stream",
          "name": "stdout",
          "text": [
            "+-------+------------+\n",
            "|movieID|Total_Rating|\n",
            "+-------+------------+\n",
            "|      1|    194866.0|\n",
            "|      2|     71444.0|\n",
            "|      3|     40128.5|\n",
            "|      4|      7886.0|\n",
            "|      5|     37268.5|\n",
            "|      6|     91651.0|\n",
            "|      7|     43633.0|\n",
            "|      8|      4446.0|\n",
            "|      9|     11899.5|\n",
            "|     10|     99488.0|\n",
            "|     11|     66613.0|\n",
            "|     12|     10073.0|\n",
            "|     13|      4781.0|\n",
            "|     14|     20668.0|\n",
            "|     15|      7921.0|\n",
            "|     16|     65879.0|\n",
            "|     17|     82018.5|\n",
            "|     18|     17553.0|\n",
            "|     19|     54594.0|\n",
            "|     20|     11765.0|\n",
            "+-------+------------+\n",
            "only showing top 20 rows\n",
            "\n"
          ]
        }
      ],
      "source": [
        "query = 'SELECT movieID, SUM(rating) as Total_Rating FROM ratings GROUP BY movieID ORDER BY movieID'\n",
        "spark.sql(query).show()"
      ]
    },
    {
      "cell_type": "markdown",
      "metadata": {
        "id": "yFPZWf__fYUd"
      },
      "source": [
        "### Query 5: What is the Average Rating for each movie?"
      ]
    },
    {
      "cell_type": "code",
      "execution_count": 34,
      "metadata": {
        "scrolled": true,
        "colab": {
          "base_uri": "https://localhost:8080/"
        },
        "id": "URvyMJHofYUd",
        "outputId": "91b035ca-8532-4fd6-94ff-6da960cc9697"
      },
      "outputs": [
        {
          "output_type": "stream",
          "name": "stdout",
          "text": [
            "+-------+--------------+\n",
            "|movieID|Average_Rating|\n",
            "+-------+--------------+\n",
            "|      1|          3.92|\n",
            "|      2|          3.21|\n",
            "|      3|          3.15|\n",
            "|      4|          2.86|\n",
            "|      5|          3.06|\n",
            "|      6|          3.83|\n",
            "|      7|          3.37|\n",
            "|      8|          3.14|\n",
            "|      9|           3.0|\n",
            "|     10|          3.43|\n",
            "|     11|          3.67|\n",
            "|     12|          2.62|\n",
            "|     13|          3.27|\n",
            "|     14|          3.43|\n",
            "|     15|          2.72|\n",
            "|     16|          3.79|\n",
            "|     17|          3.97|\n",
            "|     18|          3.37|\n",
            "|     19|          2.61|\n",
            "|     20|          2.88|\n",
            "+-------+--------------+\n",
            "only showing top 20 rows\n",
            "\n"
          ]
        }
      ],
      "source": [
        "query = 'SELECT movieID, ROUND(AVG(rating),2) as Average_Rating FROM ratings GROUP BY movieID ORDER BY movieID'\n",
        "spark.sql(query).show()"
      ]
    },
    {
      "cell_type": "markdown",
      "metadata": {
        "id": "BAku2L9TfYUd"
      },
      "source": [
        "### Query 6: How many movies are there for each genre?"
      ]
    },
    {
      "cell_type": "code",
      "execution_count": 35,
      "metadata": {
        "colab": {
          "base_uri": "https://localhost:8080/"
        },
        "id": "7j1fsrIxfYUd",
        "outputId": "af4b2e95-d31e-4156-99db-42969d758262"
      },
      "outputs": [
        {
          "output_type": "stream",
          "name": "stdout",
          "text": [
            "+--------------------+------------+\n",
            "|              genres|Total_Movies|\n",
            "+--------------------+------------+\n",
            "|               Drama|        4520|\n",
            "|              Comedy|        2294|\n",
            "|         Documentary|        1942|\n",
            "|        Comedy|Drama|        1264|\n",
            "|       Drama|Romance|        1075|\n",
            "|      Comedy|Romance|         757|\n",
            "|Comedy|Drama|Romance|         605|\n",
            "|              Horror|         565|\n",
            "|         Crime|Drama|         448|\n",
            "|      Drama|Thriller|         426|\n",
            "|           Drama|War|         399|\n",
            "|     Horror|Thriller|         374|\n",
            "|Crime|Drama|Thriller|         304|\n",
            "|            Thriller|         268|\n",
            "|  (no genres listed)|         246|\n",
            "|             Western|         215|\n",
            "|        Action|Drama|         210|\n",
            "|        Comedy|Crime|         187|\n",
            "|              Action|         178|\n",
            "|       Comedy|Horror|         170|\n",
            "+--------------------+------------+\n",
            "only showing top 20 rows\n",
            "\n"
          ]
        }
      ],
      "source": [
        "spark.sql(\"Select genres, count(movieID) as Total_Movies from movies group by genres order by count(movieID) desc\").show()"
      ]
    },
    {
      "cell_type": "markdown",
      "metadata": {
        "id": "4gueVAhvfYUe"
      },
      "source": [
        "### Query 7: How many movies have been rated each year?"
      ]
    },
    {
      "cell_type": "code",
      "execution_count": 36,
      "metadata": {
        "colab": {
          "base_uri": "https://localhost:8080/"
        },
        "id": "8iyqwWoGfYUe",
        "outputId": "82483155-b593-4e55-8c13-df2cc27eeb62"
      },
      "outputs": [
        {
          "output_type": "stream",
          "name": "stdout",
          "text": [
            "+----+------------+\n",
            "|Year|Total_Movies|\n",
            "+----+------------+\n",
            "|2009|        1113|\n",
            "|2012|        1021|\n",
            "|2011|        1014|\n",
            "|2013|        1010|\n",
            "|2008|         978|\n",
            "|2010|         958|\n",
            "|2007|         900|\n",
            "|2006|         854|\n",
            "|2014|         740|\n",
            "|2005|         739|\n",
            "|2004|         706|\n",
            "|2002|         678|\n",
            "|2003|         655|\n",
            "|2001|         632|\n",
            "|2000|         613|\n",
            "|1998|         554|\n",
            "|1999|         542|\n",
            "|1997|         528|\n",
            "|1996|         509|\n",
            "|1995|         474|\n",
            "+----+------------+\n",
            "only showing top 20 rows\n",
            "\n"
          ]
        }
      ],
      "source": [
        "spark.sql(\"Select title as Year, count(movieID) as Total_Movies from movies_year group by title order by count(movieID) desc\").show()"
      ]
    },
    {
      "cell_type": "markdown",
      "metadata": {
        "id": "dZQZYZ-_fYUe"
      },
      "source": [
        "### Query 8: Which were the least rated movies in the year of 2005?"
      ]
    },
    {
      "cell_type": "code",
      "execution_count": 37,
      "metadata": {
        "colab": {
          "base_uri": "https://localhost:8080/"
        },
        "id": "JYWmR2uqfYUf",
        "outputId": "0e68f2f8-75af-43e0-fddc-a079aacd1d7f"
      },
      "outputs": [
        {
          "output_type": "stream",
          "name": "stdout",
          "text": [
            "+--------------------+------+----+\n",
            "|               title|rating|Year|\n",
            "+--------------------+------+----+\n",
            "|  Jacket, The (2005)|   0.5|2005|\n",
            "|   Dark Water (2005)|   0.5|2005|\n",
            "| Transamerica (2005)|   0.5|2005|\n",
            "|Trust the Man (2005)|   0.5|2005|\n",
            "|Tristram Shandy: ...|   0.5|2005|\n",
            "|Mr. & Mrs. Smith ...|   0.5|2005|\n",
            "| Kid & I, The (2005)|   0.5|2005|\n",
            "|Wayward Cloud, Th...|   0.5|2005|\n",
            "|   C.R.A.Z.Y. (2005)|   0.5|2005|\n",
            "|Bad News Bears (2...|   0.5|2005|\n",
            "|Chronicles of Nar...|   0.5|2005|\n",
            "|Proposition, The ...|   0.5|2005|\n",
            "|       Sahara (2005)|   0.5|2005|\n",
            "|Pacifier, The (2005)|   0.5|2005|\n",
            "|Kingdom of Heaven...|   0.5|2005|\n",
            "|       Cursed (2005)|   0.5|2005|\n",
            "|  White Noise (2005)|   0.5|2005|\n",
            "|Constant Gardener...|   0.5|2005|\n",
            "|Legend of Zorro, ...|   0.5|2005|\n",
            "|Dukes of Hazzard,...|   0.5|2005|\n",
            "+--------------------+------+----+\n",
            "only showing top 20 rows\n",
            "\n"
          ]
        }
      ],
      "source": [
        "query = \"Select distinct(m.title),r.rating,m1.title as Year from movies m, ratings r, movies_year as m1 where m.movieID = r.movieID and m.movieID = m1.movieID and r.movieID = m1.movieId and m1.title = '2005' order by r.rating\"\n",
        "spark.sql(query).show()"
      ]
    },
    {
      "cell_type": "markdown",
      "metadata": {
        "id": "E0g41b8afYUf"
      },
      "source": [
        "### Query 9: What are the genres of the top 5 rated movies?"
      ]
    },
    {
      "cell_type": "code",
      "execution_count": 38,
      "metadata": {
        "colab": {
          "base_uri": "https://localhost:8080/"
        },
        "id": "44VwEEEwfYUf",
        "outputId": "4f5b3946-a1dd-45d8-c968-21be0b52dee4"
      },
      "outputs": [
        {
          "output_type": "stream",
          "name": "stdout",
          "text": [
            "+--------------------+--------------------+------+\n",
            "|               title|              genres|rating|\n",
            "+--------------------+--------------------+------+\n",
            "|       Freaks (1932)|  Crime|Drama|Horror|   5.0|\n",
            "|Legends of the Fa...|Drama|Romance|War...|   5.0|\n",
            "|Mr. Holland's Opu...|               Drama|   5.0|\n",
            "|Lord of the Rings...|   Adventure|Fantasy|   5.0|\n",
            "|From Dusk Till Da...|Action|Comedy|Hor...|   5.0|\n",
            "+--------------------+--------------------+------+\n",
            "\n"
          ]
        }
      ],
      "source": [
        "query = \"Select m.title,m.genres,r.rating from ratings r, movies m where m.movieID = r.movieID order by r.rating desc limit 5\"\n",
        "spark.sql(query).show()"
      ]
    },
    {
      "cell_type": "markdown",
      "metadata": {
        "id": "-0YZfa3CfYUf"
      },
      "source": [
        "### Query 10: Which are the top rated by the users Sci-fi movies?"
      ]
    },
    {
      "cell_type": "code",
      "execution_count": 39,
      "metadata": {
        "colab": {
          "base_uri": "https://localhost:8080/"
        },
        "id": "O2SQUKpIfYUf",
        "outputId": "7efae49e-7660-4572-cd47-813b83bdafae"
      },
      "outputs": [
        {
          "output_type": "stream",
          "name": "stdout",
          "text": [
            "+--------------------+--------------------+------+\n",
            "|               title|         Genre_SCIFI|rating|\n",
            "+--------------------+--------------------+------+\n",
            "|Independence Day ...|Action|Adventure|...|   5.0|\n",
            "|Star Trek: First ...|Action|Adventure|...|   5.0|\n",
            "|        Alien (1979)|       Horror|Sci-Fi|   5.0|\n",
            "|Star Trek: The Mo...|    Adventure|Sci-Fi|   5.0|\n",
            "|           Pi (1998)|Drama|Sci-Fi|Thri...|   5.0|\n",
            "|Star Trek VI: The...|Action|Mystery|Sc...|   5.0|\n",
            "|2001: A Space Ody...|Adventure|Drama|S...|   5.0|\n",
            "|Star Trek V: The ...|       Action|Sci-Fi|   5.0|\n",
            "|Star Wars: Episod...|Action|Adventure|...|   5.0|\n",
            "|Star Trek II: The...|Action|Adventure|...|   5.0|\n",
            "| Donnie Darko (2001)|Drama|Mystery|Sci...|   5.0|\n",
            "|Star Trek III: Th...|Action|Adventure|...|   5.0|\n",
            "|Star Trek: Genera...|Adventure|Drama|S...|   5.0|\n",
            "|Star Trek IV: The...|Adventure|Comedy|...|   5.0|\n",
            "|E.T. the Extra-Te...|Children|Drama|Sc...|   5.0|\n",
            "|  Judge Dredd (1995)| Action|Crime|Sci-Fi|   5.0|\n",
            "|Forbidden Planet ...|        Drama|Sci-Fi|   5.0|\n",
            "|Independence Day ...|Action|Adventure|...|   5.0|\n",
            "|  Matrix, The (1999)|Action|Sci-Fi|Thr...|   5.0|\n",
            "|Back to the Futur...|Adventure|Comedy|...|   5.0|\n",
            "+--------------------+--------------------+------+\n",
            "only showing top 20 rows\n",
            "\n"
          ]
        }
      ],
      "source": [
        "query = \"Select m.title,m.genres as Genre_SCIFI,r.rating from movies m,ratings r where genres Like '%Sci-Fi%' and m.movieID = r.movieID order by r.rating desc\"\n",
        "spark.sql(query).show()"
      ]
    },
    {
      "cell_type": "markdown",
      "metadata": {
        "id": "B0Dg5RNFfYUf"
      },
      "source": [
        "### Query 11: Which are the Worst Comedy movies rated by the users in the year 2012?"
      ]
    },
    {
      "cell_type": "code",
      "execution_count": 40,
      "metadata": {
        "colab": {
          "base_uri": "https://localhost:8080/"
        },
        "id": "3Oy0SdX3fYUf",
        "outputId": "7a531303-738e-4c3c-fe03-c1ddc83663e8"
      },
      "outputs": [
        {
          "output_type": "stream",
          "name": "stdout",
          "text": [
            "+--------------------+----+--------------------+------+\n",
            "|               title|Year|        Genre_Comedy|rating|\n",
            "+--------------------+----+--------------------+------+\n",
            "|What's in a Name ...|2012|              Comedy|   0.5|\n",
            "|Thousand Words, A...|2012|        Comedy|Drama|   0.5|\n",
            "|Dictator, The (2012)|2012|              Comedy|   0.5|\n",
            "| Tai Chi Hero (2012)|2012|Action|Comedy|Dra...|   0.5|\n",
            "|Cabin in the Wood...|2012|Comedy|Horror|Sci...|   0.5|\n",
            "|Casa de mi Padre ...|2012|              Comedy|   0.5|\n",
            "|Sleepwalk with Me...|2012|        Comedy|Drama|   0.5|\n",
            "| Rock of Ages (2012)|2012|Comedy|Drama|Musi...|   0.5|\n",
            "|That's My Boy (2012)|2012|              Comedy|   0.5|\n",
            "|   Wanderlust (2012)|2012|              Comedy|   0.5|\n",
            "|          LOL (2012)|2012|Comedy|Drama|Romance|   0.5|\n",
            "|Wreck-It Ralph (2...|2012|    Animation|Comedy|   0.5|\n",
            "|          Ted (2012)|2012|      Comedy|Fantasy|   0.5|\n",
            "| Dark Shadows (2012)|2012|  Comedy|Horror|IMAX|   0.5|\n",
            "|Journey 2: The My...|2012|Action|Adventure|...|   0.5|\n",
            "|What to Expect Wh...|2012|Comedy|Drama|Romance|   0.5|\n",
            "|     Iron Sky (2012)|2012|Action|Comedy|Sci-Fi|   0.5|\n",
            "|Piranha 3DD (a.k....|2012|       Comedy|Horror|   0.5|\n",
            "|Tim and Eric's Bi...|2012|              Comedy|   0.5|\n",
            "|Pitch Perfect (2012)|2012|      Comedy|Musical|   0.5|\n",
            "+--------------------+----+--------------------+------+\n",
            "only showing top 20 rows\n",
            "\n"
          ]
        }
      ],
      "source": [
        "query = \"Select distinct(m.title),m1.title as Year,m.genres as Genre_Comedy,r.rating from movies m, ratings r,movies_year as m1 where m.movieID = r.movieID and m.movieID = m1.movieID and r.movieID = m1.movieId and m.genres Like '%Comedy%' and m1.title = '2012' order by r.rating\"\n",
        "spark.sql(query).show()"
      ]
    },
    {
      "cell_type": "markdown",
      "source": [
        "# Query 12: Find the number of users who watched the movie \"Jumanji\"."
      ],
      "metadata": {
        "id": "RR65ogQgdxDZ"
      }
    },
    {
      "cell_type": "code",
      "source": [
        "# register 'movie' and 'rating' dataframes as SQL temporary views\n",
        "movie_df.createOrReplaceTempView(\"movie\")\n",
        "rating_df.createOrReplaceTempView(\"rating\")"
      ],
      "metadata": {
        "id": "kHfPpkccgPLh"
      },
      "execution_count": 45,
      "outputs": []
    },
    {
      "cell_type": "code",
      "source": [
        "spark.sql(\"SELECT title, count(userId) AS total_viewers FROM movie INNER JOIN rating ON movie.movieId = rating.movieId WHERE title = 'Jumanji (1995)' GROUP BY title\").show()\n"
      ],
      "metadata": {
        "colab": {
          "base_uri": "https://localhost:8080/"
        },
        "id": "pwi5QpHxgame",
        "outputId": "0ff5f465-0b18-474c-c89a-7c0805c44e97"
      },
      "execution_count": 47,
      "outputs": [
        {
          "output_type": "stream",
          "name": "stdout",
          "text": [
            "+--------------+-------------+\n",
            "|         title|total_viewers|\n",
            "+--------------+-------------+\n",
            "|Jumanji (1995)|        22243|\n",
            "+--------------+-------------+\n",
            "\n"
          ]
        }
      ]
    },
    {
      "cell_type": "markdown",
      "source": [
        "# Query 13: Find the names of the movies that users described as \"boring\"."
      ],
      "metadata": {
        "id": "FAHSSzDJem4N"
      }
    },
    {
      "cell_type": "code",
      "source": [
        "tag = tag_df.select((col('userId')),\n",
        "                  col('movieId'),\n",
        "                  lower(col('tag')).alias('lower_tag'),\n",
        "                  col('timestamp'))"
      ],
      "metadata": {
        "id": "Dl3XA05mekZz"
      },
      "execution_count": 50,
      "outputs": []
    },
    {
      "cell_type": "code",
      "source": [
        "# execute inner join between 'movie' and 'tag' dataframes\n",
        "joined = movie_df.join(tag, [\"movieId\"], 'inner')"
      ],
      "metadata": {
        "id": "Qv4jNY2wgpjQ"
      },
      "execution_count": 51,
      "outputs": []
    },
    {
      "cell_type": "code",
      "source": [
        "# create new dataframe 'boring_movies' with the columns\n",
        "# 'title' and 'lower_tag' from dataframe joined\n",
        "# and only the rows, which contain the word 'boring' in the lower_tag column\n",
        "boring_movies = joined.filter(joined['lower_tag'].contains('boring')).drop_duplicates(subset=['movieId']).select(joined['title'], joined['lower_tag'])\n"
      ],
      "metadata": {
        "id": "czLZWTVzg23o"
      },
      "execution_count": 101,
      "outputs": []
    },
    {
      "cell_type": "code",
      "source": [
        "# register the 'boring_movies' dataframe as an SQL temporary view\n",
        "boring_movies.createOrReplaceTempView(\"boring_movies\")"
      ],
      "metadata": {
        "id": "rTNL6PoGg6E5"
      },
      "execution_count": 53,
      "outputs": []
    },
    {
      "cell_type": "code",
      "source": [
        "query=\"SELECT * FROM boring_movies WHERE lower_tag NOT LIKE '% %' ORDER BY title ASC\"\n",
        "spark.sql(query).show(truncate=0)"
      ],
      "metadata": {
        "colab": {
          "base_uri": "https://localhost:8080/"
        },
        "id": "pmhpTtZ8g7Yq",
        "outputId": "b6734bad-31c1-43e1-b24b-2c71903d4d7c"
      },
      "execution_count": 55,
      "outputs": [
        {
          "output_type": "stream",
          "name": "stdout",
          "text": [
            "+-------------------------------------+---------+\n",
            "|title                                |lower_tag|\n",
            "+-------------------------------------+---------+\n",
            "|(500) Days of Summer (2009)          |boring   |\n",
            "|101 Reykjavik (101 Reykjavík) (2000) |boring   |\n",
            "|12 Years a Slave (2013)              |boring   |\n",
            "|1408 (2007)                          |boring   |\n",
            "|1492: Conquest of Paradise (1992)    |boring   |\n",
            "|2001: A Space Odyssey (1968)         |boring   |\n",
            "|2010: The Year We Make Contact (1984)|boring   |\n",
            "|2046 (2004)                          |boring   |\n",
            "|21 Grams (2003)                      |boring   |\n",
            "|24 Hour Party People (2002)          |boring   |\n",
            "|3-Iron (Bin-jip) (2004)              |boring   |\n",
            "|6 Bullets (2012)                     |boring   |\n",
            "|633 Squadron (1964)                  |boring   |\n",
            "|7 Plus Seven (1970)                  |boring   |\n",
            "|8 Women (2002)                       |boring   |\n",
            "|A.I. Artificial Intelligence (2001)  |boring   |\n",
            "|According to Greta (2009)            |boring   |\n",
            "|Adaptation (2002)                    |boring   |\n",
            "|Adjustment Bureau, The (2011)        |boring   |\n",
            "|Admission (2013)                     |boring   |\n",
            "+-------------------------------------+---------+\n",
            "only showing top 20 rows\n",
            "\n"
          ]
        }
      ]
    },
    {
      "cell_type": "markdown",
      "source": [
        "## Query 14:Find the number of users who have described a movie as \"Bollywood\" and they have rated it with a score > 3.\n"
      ],
      "metadata": {
        "id": "FpR0uZpVhOjB"
      }
    },
    {
      "cell_type": "code",
      "source": [
        "tag = tag_df.select((col('userId')),\n",
        "                  col('movieId'),\n",
        "                  lower(col('tag')).alias('lower_tag'),\n",
        "                  col('timestamp'))"
      ],
      "metadata": {
        "id": "VrNdp2V0g8r4"
      },
      "execution_count": 56,
      "outputs": []
    },
    {
      "cell_type": "code",
      "source": [
        "# execute inner join between 'rating' and 'tag' dataframes\n",
        "joined = rating_df.join(tag, ['userId', 'movieId'], 'inner')\n"
      ],
      "metadata": {
        "id": "-M5F0_z5hfb1"
      },
      "execution_count": 58,
      "outputs": []
    },
    {
      "cell_type": "code",
      "source": [
        "# create new dataframe 'bollywood_movies' with the columns\n",
        "# 'userId', 'rating' and 'lower_tag' from dataframe joined\n",
        "# and only the rows, which contain the word 'bollywood' in the lower_tag column\n",
        "bollywood_movies = joined.filter(joined['lower_tag'].contains('bollywood')).drop_duplicates(subset=['userId']).select(joined['userId'], joined['rating'], joined['lower_tag'])\n"
      ],
      "metadata": {
        "id": "w3ZCCdM-hhDw"
      },
      "execution_count": 59,
      "outputs": []
    },
    {
      "cell_type": "code",
      "source": [
        "# register the 'bollywood_movies' dataframe as an SQL temporary view\n",
        "bollywood_movies.createOrReplaceTempView(\"bollywood_movies\")\n"
      ],
      "metadata": {
        "id": "1YQ_NmKxhlIO"
      },
      "execution_count": 60,
      "outputs": []
    },
    {
      "cell_type": "code",
      "source": [
        "query=\"SELECT * FROM bollywood_movies WHERE rating > 3.0 AND lower_tag NOT LIKE '%not%' ORDER BY userId ASC\"\n",
        "spark.sql(query).show()\n"
      ],
      "metadata": {
        "colab": {
          "base_uri": "https://localhost:8080/"
        },
        "id": "Nqvl3iSxhmT3",
        "outputId": "8125181d-4a78-4c79-c190-a9d3c3eb938e"
      },
      "execution_count": 61,
      "outputs": [
        {
          "output_type": "stream",
          "name": "stdout",
          "text": [
            "+------+------+-------------------+\n",
            "|userId|rating|          lower_tag|\n",
            "+------+------+-------------------+\n",
            "| 10573|   4.0|          bollywood|\n",
            "| 19837|   5.0|          bollywood|\n",
            "| 23333|   4.0|          bollywood|\n",
            "| 25004|   5.0|          bollywood|\n",
            "| 31338|   4.5|          bollywood|\n",
            "| 33323|   3.5|          bollywood|\n",
            "| 35170|   4.0|          bollywood|\n",
            "| 40514|   5.0|          bollywood|\n",
            "| 41165|   4.5|          bollywood|\n",
            "| 48816|   4.5|bollywood influence|\n",
            "| 51539|   4.0|          bollywood|\n",
            "| 54900|   3.5|          bollywood|\n",
            "| 63618|   3.5|          bollywood|\n",
            "| 65908|   4.5|          bollywood|\n",
            "| 70279|   4.5|          bollywood|\n",
            "| 77137|   5.0|          bollywood|\n",
            "| 86883|   4.0|          bollywood|\n",
            "|106755|   4.0|bollywood influence|\n",
            "|130827|   3.5|bollywood influence|\n",
            "|131829|   4.0|          bollywood|\n",
            "+------+------+-------------------+\n",
            "only showing top 20 rows\n",
            "\n"
          ]
        }
      ]
    },
    {
      "cell_type": "markdown",
      "source": [
        "## Query 15: Find the tags for each movie and the name of the movie before the year 2015."
      ],
      "metadata": {
        "id": "y9H0NcdCh4c0"
      }
    },
    {
      "cell_type": "code",
      "source": [
        "# execute inner join between 'movie_df' and 'tag_df' dataframes\n",
        "mxt = movie_df.join(tag_df, movie_df[\"movieId\"]==tag_df[\"movieId\"], \"inner\")\\\n",
        "        .select( tag_df[\"userId\"],\n",
        "                 tag_df[\"tag\"],\n",
        "                 movie_df[\"title\"])"
      ],
      "metadata": {
        "id": "m1vi5c4Ghs1c"
      },
      "execution_count": 62,
      "outputs": []
    },
    {
      "cell_type": "code",
      "source": [
        "# keep only the rows which contain the year 2015\n",
        "fift = mxt.filter(tag_df.timestamp.contains('2015-'))\n"
      ],
      "metadata": {
        "id": "61YPw8Q4iMjB"
      },
      "execution_count": 64,
      "outputs": []
    },
    {
      "cell_type": "code",
      "source": [
        "query = fift.groupBy(\"title\").agg(collect_list(\"tag\").alias(\"tag\")).orderBy(\"title\").show(truncate=0)\n"
      ],
      "metadata": {
        "colab": {
          "base_uri": "https://localhost:8080/"
        },
        "id": "nZsrlRS3iOTT",
        "outputId": "c8d9d775-eb47-41a4-a404-a280f0500281"
      },
      "execution_count": 68,
      "outputs": [
        {
          "output_type": "stream",
          "name": "stdout",
          "text": [
            "+----------------------------------------+--------------------------------------------------------------------------------------------------------------------------------------------------------------------------------------------------------------------------------------------------------------------------------------------------------------------------------------------------------------------------------------------------------+\n",
            "|title                                   |tag                                                                                                                                                                                                                                                                                                                                                                                                     |\n",
            "+----------------------------------------+--------------------------------------------------------------------------------------------------------------------------------------------------------------------------------------------------------------------------------------------------------------------------------------------------------------------------------------------------------------------------------------------------------+\n",
            "|\"\"Great Performances\"\" Cats (1998)      |[BD-R]                                                                                                                                                                                                                                                                                                                                                                                                  |\n",
            "|'burbs, The (1989)                      |[1980's, black comedy, dark comedy, Joe Dante, quirky]                                                                                                                                                                                                                                                                                                                                                  |\n",
            "|(500) Days of Summer (2009)             |[annoying, artistic, bad dialogue, boring, depressing, Joseph Gordon-Levitt, overrated, slow, stupid, Zooey Deschanel, intelligent, nonlinear, artistic, bittersweet, Funny, humor, humorous, intelligent, Joseph Gordon-Levitt, music, nonlinear, quirky, relationships, romance, Zooey Deschanel, bittersweet, quirky, romance, Joseph Gordon-Levitt, artistic, no happy ending, nonlinear, overrated]|\n",
            "|...tick... tick... tick... (1970)       |[BD-R]                                                                                                                                                                                                                                                                                                                                                                                                  |\n",
            "|1 (2014)                                |[Sukumar]                                                                                                                                                                                                                                                                                                                                                                                               |\n",
            "|10 Things I Hate About You (1999)       |[chick flick, Heath Ledger, high school, Julia Stiles, teen, chick flick, clever, clever writing, Cliché, comedy, coming of age, Heath Ledger, high school, sunny, teenager]                                                                                                                                                                                                                            |\n",
            "|10,000 BC (2008)                        |[historically inaccurate]                                                                                                                                                                                                                                                                                                                                                                               |\n",
            "|101 Reykjavik (101 Reykjavík) (2000)    |[Iceland]                                                                                                                                                                                                                                                                                                                                                                                               |\n",
            "|10th Kingdom, The (2000)                |[SERIE DE TV, fantasy, magic, romance]                                                                                                                                                                                                                                                                                                                                                                  |\n",
            "|11 x 14 (1977)                          |[James Benning]                                                                                                                                                                                                                                                                                                                                                                                         |\n",
            "|11-11-11 (11-11-11: The Prophecy) (2011)|[PG-13:some disturbing images and thematic material]                                                                                                                                                                                                                                                                                                                                                    |\n",
            "|11:14 (2003)                            |[multiple storylines, black comedy, dark comedy, multiple storylines]                                                                                                                                                                                                                                                                                                                                   |\n",
            "|12 Angry Men (1957)                     |[group psychology, Motivational, cinematography, good dialogue, group psychology, crime, confrontational, good dialogue, gritty, group psychology, social commentary, thought-provoking, classic, courtroom drama, crime, DIVX, good dialogue, Henry Fonda, imdb top 250, low budget, racism, Sidney Lumet, social commentary, thought-provoking, black and white, courtroom drama, dialog]             |\n",
            "|12 Angry Men (1997)                     |[Bob*ola]                                                                                                                                                                                                                                                                                                                                                                                               |\n",
            "|12 Years a Slave (2013)                 |[Academy award winning, based on a true story, Graphic Violence, slavery, based on a book, cinematography, Graphic Violence, slavery, 2014]                                                                                                                                                                                                                                                             |\n",
            "|12:01 (1993)                            |[time loop]                                                                                                                                                                                                                                                                                                                                                                                             |\n",
            "|12:01 PM (1990)                         |[Jonathan Heap, easily confused with other movie(s) (title), time loop, time travel]                                                                                                                                                                                                                                                                                                                    |\n",
            "|13 Going on 30 (2004)                   |[Aging, Friends As Lovers, Jennifer Garner, Mark Ruffalo]                                                                                                                                                                                                                                                                                                                                               |\n",
            "|13 Lakes (2004)                         |[James Benning]                                                                                                                                                                                                                                                                                                                                                                                         |\n",
            "|13th Warrior, The (1999)                |[fantasy]                                                                                                                                                                                                                                                                                                                                                                                               |\n",
            "+----------------------------------------+--------------------------------------------------------------------------------------------------------------------------------------------------------------------------------------------------------------------------------------------------------------------------------------------------------------------------------------------------------------------------------------------------------+\n",
            "only showing top 20 rows\n",
            "\n"
          ]
        }
      ]
    },
    {
      "cell_type": "markdown",
      "source": [
        "## Query 16: Find the movies with the most ratings for each movie category.#"
      ],
      "metadata": {
        "id": "K1cyOyo5iyud"
      }
    },
    {
      "cell_type": "code",
      "source": [
        "# because some movies have more than one genres listed,\n",
        "# we split the column 'genres' with the '|' operator so we can process on each genre separately\n",
        "# and then use explode so that every distinct genre will be in their own row\n",
        "movie = movie_df.withColumn(\"genres\", explode(split(\"genres\", \"[|]\")))"
      ],
      "metadata": {
        "id": "oBNtQBehiU3q"
      },
      "execution_count": 73,
      "outputs": []
    },
    {
      "cell_type": "code",
      "source": [
        "# execute inner join between 'movie' and 'rating' dataframes\n",
        "joined = movie.join(rating_df, [\"movieId\"], 'inner')"
      ],
      "metadata": {
        "id": "6DWb7IWgjC1I"
      },
      "execution_count": 75,
      "outputs": []
    },
    {
      "cell_type": "code",
      "source": [
        "# create new dataframe 'top_movie_genre' with the columns of dataframe 'joined'\n",
        "# grouped by the columns 'title' and 'genres'\n",
        "# and count the number of ratings for each movie of each genre\n",
        "top_movie_genre = joined.select('*').groupby(joined[\"title\"], joined[\"genres\"]).agg(count('rating').alias('total_ratings'))\n",
        "# create a window partition over the 'genres' column\n",
        "window = Window.partitionBy(top_movie_genre[\"genres\"]).orderBy(top_movie_genre[\"total_ratings\"].desc())"
      ],
      "metadata": {
        "id": "XaS3TdV7jFkI"
      },
      "execution_count": 78,
      "outputs": []
    },
    {
      "cell_type": "code",
      "source": [
        "# give the sequential row number 1, to the result of each window partition.\n",
        "# In that way, we find the rank 1 movie of each genre with the larger number of ratings\n",
        "top = top_movie_genre.select('*', row_number().over(window).alias('rank')).filter(col('rank') <= 1)\n"
      ],
      "metadata": {
        "id": "xGsiVAvPjF2t"
      },
      "execution_count": 79,
      "outputs": []
    },
    {
      "cell_type": "code",
      "source": [
        "query = top.select(top[\"genres\"], top[\"title\"], top[\"total_ratings\"]).orderBy(top[\"genres\"].asc()).show()"
      ],
      "metadata": {
        "colab": {
          "base_uri": "https://localhost:8080/"
        },
        "id": "UOCCxQOBj8Zz",
        "outputId": "f5bcc63d-3a42-4e72-af29-12df85837c1e"
      },
      "execution_count": 80,
      "outputs": [
        {
          "output_type": "stream",
          "name": "stdout",
          "text": [
            "+------------------+--------------------+-------------+\n",
            "|            genres|               title|total_ratings|\n",
            "+------------------+--------------------+-------------+\n",
            "|(no genres listed)|Doctor Who: The T...|           36|\n",
            "|            Action|Jurassic Park (1993)|        59715|\n",
            "|         Adventure|Jurassic Park (1993)|        59715|\n",
            "|         Animation|    Toy Story (1995)|        49695|\n",
            "|          Children|    Toy Story (1995)|        49695|\n",
            "|            Comedy| Pulp Fiction (1994)|        67310|\n",
            "|             Crime| Pulp Fiction (1994)|        67310|\n",
            "|       Documentary|Bowling for Colum...|        12280|\n",
            "|             Drama| Pulp Fiction (1994)|        67310|\n",
            "|           Fantasy|    Toy Story (1995)|        49695|\n",
            "|         Film-Noir|L.A. Confidential...|        26836|\n",
            "|            Horror|Silence of the La...|        63299|\n",
            "|              IMAX|    Apollo 13 (1995)|        47777|\n",
            "|           Musical|      Aladdin (1992)|        41842|\n",
            "|           Mystery|Usual Suspects, T...|        47006|\n",
            "|           Romance| Forrest Gump (1994)|        66172|\n",
            "|            Sci-Fi|Jurassic Park (1993)|        59715|\n",
            "|          Thriller| Pulp Fiction (1994)|        67310|\n",
            "|               War| Forrest Gump (1994)|        66172|\n",
            "|           Western|Dances with Wolve...|        44208|\n",
            "+------------------+--------------------+-------------+\n",
            "\n"
          ]
        }
      ]
    },
    {
      "cell_type": "markdown",
      "source": [
        "## Query 17: Find the total number of users watching the same movie, on the same day and time."
      ],
      "metadata": {
        "id": "BDlQfNzhkHX2"
      }
    },
    {
      "cell_type": "code",
      "source": [
        "# create new dataframe 'same time_user' with the columns of dataframe 'rating'\n",
        "# grouped by the columns 'movieId', 'year', 'day_of_year' and 'hour',\n",
        "# and count the number of users who watched the same movie at the same time\n",
        "same_time = rating_df.select('*').groupby(rating_df[\"movieId\"]).agg(count('userId').alias('viewers'))\n"
      ],
      "metadata": {
        "id": "Zwh_C27Cj_MR"
      },
      "execution_count": 88,
      "outputs": []
    },
    {
      "cell_type": "code",
      "source": [
        "rating = rating_df.select(col('userId'),\n",
        "                      col('movieId'),\n",
        "                      col('rating'),\n",
        "                      col('timestamp'),\n",
        "                      year(col('timestamp')).alias('year'),\n",
        "                      dayofyear(col('timestamp')).alias('day_of_year'),\n",
        "                      hour(col('timestamp')).alias('hour'))"
      ],
      "metadata": {
        "id": "eSTOZ43slacM"
      },
      "execution_count": 91,
      "outputs": []
    },
    {
      "cell_type": "code",
      "source": [
        "# from dataframe 'same_time' select only the rows which have more than one viewer\n",
        "# and compute the sum of viewers of these rows\n",
        "same_time = rating.select('*').groupby(rating[\"movieId\"], rating[\"year\"], rating[\"day_of_year\"], rating[\"hour\"]).agg(count('userId').alias('viewers'))\n"
      ],
      "metadata": {
        "id": "SZJPc1b-kfED"
      },
      "execution_count": 92,
      "outputs": []
    },
    {
      "cell_type": "code",
      "source": [
        "query = same_time.filter(same_time[\"viewers\"] != 1).select('*').agg(sum('viewers').alias('total_viewers')).show()\n"
      ],
      "metadata": {
        "colab": {
          "base_uri": "https://localhost:8080/"
        },
        "id": "c4AeFw5jlPNu",
        "outputId": "90141a34-20b7-4cc7-be18-6c2eec0dd8b1"
      },
      "execution_count": 93,
      "outputs": [
        {
          "output_type": "stream",
          "name": "stdout",
          "text": [
            "+-------------+\n",
            "|total_viewers|\n",
            "+-------------+\n",
            "|      4280240|\n",
            "+-------------+\n",
            "\n"
          ]
        }
      ]
    },
    {
      "cell_type": "markdown",
      "source": [
        "## Query 18: Find the number of movies, for each category, that users rated as \"funny\" and with a rating > 3.5."
      ],
      "metadata": {
        "id": "oK5BaLPylwi-"
      }
    },
    {
      "cell_type": "code",
      "source": [
        "tag = tag_df.select((col('userId')),\n",
        "                  col('movieId'),\n",
        "                  lower(col('tag')).alias('lower_tag'),\n",
        "                  col('timestamp'))"
      ],
      "metadata": {
        "id": "BpuRekT0loSr"
      },
      "execution_count": 94,
      "outputs": []
    },
    {
      "cell_type": "code",
      "source": [
        "# execute inner join between 'rating' and 'tag' dataframes\n",
        "joined = rating_df.join(tag, (rating.userId == tag.userId) & (rating.movieId == tag.movieId), 'inner')\n"
      ],
      "metadata": {
        "id": "u0yAC0okl4r_"
      },
      "execution_count": 95,
      "outputs": []
    },
    {
      "cell_type": "code",
      "source": [
        "# from dataframe 'joined' select only the rows whose 'lower_tag' column contains the word funny\n",
        "# and whose 'rating' column is > 3.5\n",
        "funny_movies = joined.filter((joined['lower_tag'].contains('funny')) & (~joined[\"lower_tag\"].contains('no')) & (joined[\"rating\"] > 3.5))"
      ],
      "metadata": {
        "id": "Ed4oTuLvl8_o"
      },
      "execution_count": 96,
      "outputs": []
    },
    {
      "cell_type": "code",
      "source": [
        "# because some movies have more than one genres listed,\n",
        "# we split the column 'genres' with the '|' operator so we can process on each genre separately\n",
        "# and then use explode so that every distinct genre will be in their own row\n",
        "movie = movie.withColumn(\"genres\", explode(split(\"genres\", \"[|]\")))\n",
        "# execute inner join between 'movie' and 'funny_movies' dataframes\n",
        "joined = movie.join(funny_movies, [\"movieId\"], 'inner')"
      ],
      "metadata": {
        "id": "eyHrQg1bmCkW"
      },
      "execution_count": 98,
      "outputs": []
    },
    {
      "cell_type": "code",
      "source": [
        "# create new dataframe 'genre' with the columns of dataframe 'joined'\n",
        "# grouped by the column 'genres'\n",
        "# and count the number of distinct movies for each genre\n",
        "genre = joined.select('*').groupby(joined[\"genres\"]).agg(count('title').alias('movies_count'))\n"
      ],
      "metadata": {
        "id": "TVGFox49mLGs"
      },
      "execution_count": 99,
      "outputs": []
    },
    {
      "cell_type": "code",
      "source": [
        "query = genre.orderBy(genre[\"genres\"].asc()).show()\n"
      ],
      "metadata": {
        "colab": {
          "base_uri": "https://localhost:8080/"
        },
        "id": "KLvJUCiMmQMl",
        "outputId": "ec2a3402-5c2d-4390-a340-434348287393"
      },
      "execution_count": 100,
      "outputs": [
        {
          "output_type": "stream",
          "name": "stdout",
          "text": [
            "+-----------+------------+\n",
            "|     genres|movies_count|\n",
            "+-----------+------------+\n",
            "|     Action|         431|\n",
            "|  Adventure|         465|\n",
            "|  Animation|         268|\n",
            "|   Children|         273|\n",
            "|     Comedy|        1618|\n",
            "|      Crime|         276|\n",
            "|Documentary|          27|\n",
            "|      Drama|         544|\n",
            "|    Fantasy|         306|\n",
            "|  Film-Noir|           3|\n",
            "|     Horror|         140|\n",
            "|       IMAX|          74|\n",
            "|    Musical|          92|\n",
            "|    Mystery|          93|\n",
            "|    Romance|         490|\n",
            "|     Sci-Fi|         197|\n",
            "|   Thriller|         236|\n",
            "|        War|          37|\n",
            "|    Western|          44|\n",
            "+-----------+------------+\n",
            "\n"
          ]
        }
      ]
    },
    {
      "cell_type": "code",
      "source": [],
      "metadata": {
        "id": "PBIgXY1zmRrt"
      },
      "execution_count": null,
      "outputs": []
    }
  ],
  "metadata": {
    "kernelspec": {
      "display_name": "Python 3",
      "language": "python",
      "name": "python3"
    },
    "language_info": {
      "codemirror_mode": {
        "name": "ipython",
        "version": 3
      },
      "file_extension": ".py",
      "mimetype": "text/x-python",
      "name": "python",
      "nbconvert_exporter": "python",
      "pygments_lexer": "ipython3",
      "version": "3.6.6"
    },
    "colab": {
      "provenance": []
    }
  },
  "nbformat": 4,
  "nbformat_minor": 0
}